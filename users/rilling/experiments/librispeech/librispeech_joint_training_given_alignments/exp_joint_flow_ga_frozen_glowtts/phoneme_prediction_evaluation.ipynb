{
 "cells": [
  {
   "cell_type": "code",
   "execution_count": 1,
   "metadata": {},
   "outputs": [],
   "source": [
    "import sys\n",
    "sys.path.append(\"/u/lukas.rilling/dev/\")\n",
    "import pandas as pd\n",
    "import numpy as np\n",
    "import matplotlib.pyplot as plt\n",
    "import glob\n",
    "import os\n",
    "import h5py\n",
    "%matplotlib widget\n",
    "\n",
    "from returnn_training_progress import get_epoch_data\n",
    "from returnn_training_plot_nb import plot_df\n",
    "%load_ext autoreload\n",
    "%autoreload 2"
   ]
  },
  {
   "cell_type": "code",
   "execution_count": 2,
   "metadata": {},
   "outputs": [
    {
     "name": "stdout",
     "output_type": "stream",
     "text": [
      "['/u/lukas.rilling/experiments/glow_tts_asr_v2/alias/experiments/librispeech/joint_training/given_alignments/raw_audio/joint_models/flow_given_alignment/ga_glowTTS_ASR_ffn_x_vector/200ep/basic_init/ce_ls_0.1/phoneme_pred/train-clean/output/output.hdf', '/u/lukas.rilling/experiments/glow_tts_asr_v2/alias/experiments/librispeech/joint_training/given_alignments/raw_audio/joint_models/flow_given_alignment/ga_glowTTS_ASR_ffn_x_vector/200ep/tts_pretrained/ce_ls_0.1/phoneme_pred/train-clean/output/output.hdf', '/u/lukas.rilling/experiments/glow_tts_asr_v2/alias/experiments/librispeech/joint_training/given_alignments/raw_audio/joint_models/flow_given_alignment/ga_glowTTS_ASR_ffn_x_vector_v2/200ep/tts_pretrained/ce_ls_1.0/phoneme_pred/train-clean/output/output.hdf', '/u/lukas.rilling/experiments/glow_tts_asr_v2/alias/experiments/librispeech/joint_training/given_alignments/raw_audio/joint_models/flow_given_alignment/ga_glowTTS_ASR_ffn_x_vector_v2/200ep/tts_pretrained/ce_ls_0.1/phoneme_pred/train-clean/output/output.hdf', '/u/lukas.rilling/experiments/glow_tts_asr_v2/alias/experiments/librispeech/joint_training/given_alignments/raw_audio/joint_models/flow_given_alignment/ga_glowTTS_ASR_ffn_x_vector_v2/200ep/basic_init/ce_ls_1.0/phoneme_pred/train-clean/output/output.hdf', '/u/lukas.rilling/experiments/glow_tts_asr_v2/alias/experiments/librispeech/joint_training/given_alignments/raw_audio/joint_models/flow_given_alignment/ga_glowTTS_ASR_ffn_x_vector_v2/200ep/basic_init/ce_ls_0.1/phoneme_pred/train-clean/output/output.hdf', '/u/lukas.rilling/experiments/glow_tts_asr_v2/alias/experiments/librispeech/joint_training/given_alignments/raw_audio/joint_models/flow_given_alignment/ga_glowTTS_ASR_cnn_x_vector/basic_init/ce_ls_0.1/phoneme_pred/train-clean/output/output.hdf', '/u/lukas.rilling/experiments/glow_tts_asr_v2/alias/experiments/librispeech/joint_training/given_alignments/raw_audio/joint_models/flow_given_alignment/ga_glowTTS_ASR_cnn_x_vector/tts_pretrained/ce_ls_0.1/phoneme_pred/train-clean/output/output.hdf', '/u/lukas.rilling/experiments/glow_tts_asr_v2/alias/experiments/librispeech/joint_training/given_alignments/raw_audio/joint_models/flow_given_alignment/ga_glowTTS_ASR_cnn_x_vector_v2/tts_pretrained/ce_ls_0.01/phoneme_pred/train-clean/output/output.hdf', '/u/lukas.rilling/experiments/glow_tts_asr_v2/alias/experiments/librispeech/joint_training/given_alignments/raw_audio/joint_models/flow_given_alignment/ga_glowTTS_ASR_cnn_x_vector_v2/tts_pretrained/ce_ls_0.1/phoneme_pred/train-clean/output/output.hdf', '/u/lukas.rilling/experiments/glow_tts_asr_v2/alias/experiments/librispeech/joint_training/given_alignments/raw_audio/joint_models/flow_given_alignment/ga_glowTTS_ASR_cnn_x_vector_v2/basic_init/ce_ls_0.01/phoneme_pred/train-clean/output/output.hdf', '/u/lukas.rilling/experiments/glow_tts_asr_v2/alias/experiments/librispeech/joint_training/given_alignments/raw_audio/joint_models/flow_given_alignment/ga_glowTTS_ASR_cnn_x_vector_v2/basic_init/ce_ls_0.1/phoneme_pred/train-clean/output/output.hdf']\n"
     ]
    },
    {
     "data": {
      "text/plain": [
       "({'/u/lukas.rilling/experiments/glow_tts_asr_v2/alias/experiments/librispeech/joint_training/given_alignments/raw_audio/joint_models/flow_given_alignment/ga_glowTTS_ASR_ffn_x_vector/200ep/basic_init/ce_ls_0.1/phoneme_pred/train-clean/output/output.hdf': '/ga_glowTTS_ASR_ffn_x_vector/200ep/basic_init/ce_ls_0.1/',\n",
       "  '/u/lukas.rilling/experiments/glow_tts_asr_v2/alias/experiments/librispeech/joint_training/given_alignments/raw_audio/joint_models/flow_given_alignment/ga_glowTTS_ASR_ffn_x_vector/200ep/tts_pretrained/ce_ls_0.1/phoneme_pred/train-clean/output/output.hdf': '/ga_glowTTS_ASR_ffn_x_vector/200ep/tts_pretrained/ce_ls_0.1/',\n",
       "  '/u/lukas.rilling/experiments/glow_tts_asr_v2/alias/experiments/librispeech/joint_training/given_alignments/raw_audio/joint_models/flow_given_alignment/ga_glowTTS_ASR_ffn_x_vector_v2/200ep/tts_pretrained/ce_ls_1.0/phoneme_pred/train-clean/output/output.hdf': '/ga_glowTTS_ASR_ffn_x_vector_v2/200ep/tts_pretrained/ce_ls_1.0/',\n",
       "  '/u/lukas.rilling/experiments/glow_tts_asr_v2/alias/experiments/librispeech/joint_training/given_alignments/raw_audio/joint_models/flow_given_alignment/ga_glowTTS_ASR_ffn_x_vector_v2/200ep/tts_pretrained/ce_ls_0.1/phoneme_pred/train-clean/output/output.hdf': '/ga_glowTTS_ASR_ffn_x_vector_v2/200ep/tts_pretrained/ce_ls_0.1/',\n",
       "  '/u/lukas.rilling/experiments/glow_tts_asr_v2/alias/experiments/librispeech/joint_training/given_alignments/raw_audio/joint_models/flow_given_alignment/ga_glowTTS_ASR_ffn_x_vector_v2/200ep/basic_init/ce_ls_1.0/phoneme_pred/train-clean/output/output.hdf': '/ga_glowTTS_ASR_ffn_x_vector_v2/200ep/basic_init/ce_ls_1.0/',\n",
       "  '/u/lukas.rilling/experiments/glow_tts_asr_v2/alias/experiments/librispeech/joint_training/given_alignments/raw_audio/joint_models/flow_given_alignment/ga_glowTTS_ASR_ffn_x_vector_v2/200ep/basic_init/ce_ls_0.1/phoneme_pred/train-clean/output/output.hdf': '/ga_glowTTS_ASR_ffn_x_vector_v2/200ep/basic_init/ce_ls_0.1/',\n",
       "  '/u/lukas.rilling/experiments/glow_tts_asr_v2/alias/experiments/librispeech/joint_training/given_alignments/raw_audio/joint_models/flow_given_alignment/ga_glowTTS_ASR_cnn_x_vector/basic_init/ce_ls_0.1/phoneme_pred/train-clean/output/output.hdf': '/ga_glowTTS_ASR_cnn_x_vector/basic_init/ce_ls_0.1/',\n",
       "  '/u/lukas.rilling/experiments/glow_tts_asr_v2/alias/experiments/librispeech/joint_training/given_alignments/raw_audio/joint_models/flow_given_alignment/ga_glowTTS_ASR_cnn_x_vector/tts_pretrained/ce_ls_0.1/phoneme_pred/train-clean/output/output.hdf': '/ga_glowTTS_ASR_cnn_x_vector/tts_pretrained/ce_ls_0.1/',\n",
       "  '/u/lukas.rilling/experiments/glow_tts_asr_v2/alias/experiments/librispeech/joint_training/given_alignments/raw_audio/joint_models/flow_given_alignment/ga_glowTTS_ASR_cnn_x_vector_v2/tts_pretrained/ce_ls_0.01/phoneme_pred/train-clean/output/output.hdf': '/ga_glowTTS_ASR_cnn_x_vector_v2/tts_pretrained/ce_ls_0.01/',\n",
       "  '/u/lukas.rilling/experiments/glow_tts_asr_v2/alias/experiments/librispeech/joint_training/given_alignments/raw_audio/joint_models/flow_given_alignment/ga_glowTTS_ASR_cnn_x_vector_v2/tts_pretrained/ce_ls_0.1/phoneme_pred/train-clean/output/output.hdf': '/ga_glowTTS_ASR_cnn_x_vector_v2/tts_pretrained/ce_ls_0.1/',\n",
       "  '/u/lukas.rilling/experiments/glow_tts_asr_v2/alias/experiments/librispeech/joint_training/given_alignments/raw_audio/joint_models/flow_given_alignment/ga_glowTTS_ASR_cnn_x_vector_v2/basic_init/ce_ls_0.01/phoneme_pred/train-clean/output/output.hdf': '/ga_glowTTS_ASR_cnn_x_vector_v2/basic_init/ce_ls_0.01/',\n",
       "  '/u/lukas.rilling/experiments/glow_tts_asr_v2/alias/experiments/librispeech/joint_training/given_alignments/raw_audio/joint_models/flow_given_alignment/ga_glowTTS_ASR_cnn_x_vector_v2/basic_init/ce_ls_0.1/phoneme_pred/train-clean/output/output.hdf': '/ga_glowTTS_ASR_cnn_x_vector_v2/basic_init/ce_ls_0.1/'},\n",
       " 12)"
      ]
     },
     "execution_count": 2,
     "metadata": {},
     "output_type": "execute_result"
    }
   ],
   "source": [
    "globs = [\n",
    "    \"/u/lukas.rilling/experiments/glow_tts_asr_v2/alias/experiments/librispeech/joint_training/given_alignments/raw_audio/joint_models/flow_given_alignment/ga_glowTTS_ASR_ffn_x_vector*/200ep/*/ce*/phoneme_pred/train-clean/output/output.hdf\",\n",
    "    \"/u/lukas.rilling/experiments/glow_tts_asr_v2/alias/experiments/librispeech/joint_training/given_alignments/raw_audio/joint_models/flow_given_alignment/ga_glowTTS_ASR_cnn_x_vector*/*/ce*/phoneme_pred/train-clean/output/output.hdf\",\n",
    "]\n",
    "lr_files = []\n",
    "for g in globs:\n",
    "    lr_files += glob.glob(g)\n",
    "\n",
    "print(lr_files)\n",
    "exlude = \"speaker_drop\"\n",
    "lr_files = [l for l in lr_files if not exlude in l]\n",
    "# print(lr_files)\n",
    "common_prefix = os.path.commonpath(lr_files)\n",
    "common_sufix = os.path.commonpath([l[::-1] for l in lr_files])[::-1]\n",
    "\n",
    "names = []\n",
    "for f in lr_files:\n",
    "    names.append(f.removeprefix(common_prefix).removesuffix(common_sufix))\n",
    "\n",
    "files = dict(zip(lr_files, names))\n",
    "files, len(lr_files)"
   ]
  },
  {
   "cell_type": "code",
   "execution_count": 3,
   "metadata": {},
   "outputs": [],
   "source": [
    "# replace_dict = {\n",
    "#     \"librispeech_glow_asr/pytorch/encoding_test/\": \"\",\n",
    "#     \"tts_architecture/glow_tts/raw_audio/decoder_test/\": \"\",\n",
    "#     \"/\": \" | \",\n",
    "#     \"_encoder_sample_test\": \" Sampled \",\n",
    "#     \"_decoder_test\": \" Decoder output \",\n",
    "#     # \"_encoding_test_blstm\": \"1x512 BLSTM  Mean + log(std)\",\n",
    "#     \"_encoding_test\": \"\",\n",
    "#     \"_ce\": \"Mean + log(std)\",\n",
    "#     \"_mean_only\": \"Mean\",\n",
    "#     \"_encoding_test_mean_only\": \"Mean\",\n",
    "#     \"glowTTS\": \"\",\n",
    "#     \"_maxlike_alignment\": \" MAS \",\n",
    "#     \"_simple_linear\": \" 1x80 linear \",\n",
    "#     \"_multi_layer_ffn\": \" 3x512 linear \",\n",
    "#     \"_blstm\": \" 1x512 BLSTM \",\n",
    "#     \"tts_architecture\": \"\",\n",
    "#     \"enc192\": \"192 channels\",\n",
    "#     \"enc768\": \"768 channels\",\n",
    "# }"
   ]
  },
  {
   "cell_type": "code",
   "execution_count": 4,
   "metadata": {},
   "outputs": [],
   "source": [
    "# sorting_definition_glow_model = [\"192 channels\", \"768 channels\"]\n",
    "# sorting_definition_model = [\" 1x80 linear \", \" 3x512 linear \", \" 1x512 BLSTM \"]\n",
    "# sorting_definition_mean = [\"mean_only\", \"with_sigma\"]\n",
    "# sorting_definition_input = [\"Mean |\", \"Mean + log(std) |\", \" Sampled  |\", \" Sampled  MAS  |\", \" Decoder output  |\"]\n",
    "# def sorting_function(a):\n",
    "#     if \"mean_only\" in a[1] or \"with_sigma\" in a[1]:\n",
    "#         split_a = a[1].split(\" | \")\n",
    "\n",
    "#         sorting_index_a = sorting_definition_model.index(split_a[0]) * 1e3\n",
    "\n",
    "#         if \"channels\" in a[1]:\n",
    "#             sorting_index_a += sorting_definition_glow_model.index(split_a[1]) * 1e2 + sorting_definition_mean.index(split_a[2]) * 1e1 + sorting_definition_input.index(split_a[3])   \n",
    "#         else:\n",
    "#             sorting_index_a += sorting_definition_mean.index(split_a[1]) * 1e1 + sorting_definition_input.index(split_a[2])\n",
    "\n",
    "#     else:\n",
    "#         split_a = a[1].split(\" | \")\n",
    "\n",
    "#         sorting_index_a = sorting_definition_model.index(split_a[0]) * 1e2\n",
    "#         if \"channels\" in a[1]:\n",
    "#             sorting_index_a += sorting_definition_glow_model.index(split_a[1]) * 1e1 + sorting_definition_input.index(split_a[2])\n",
    "#         else:\n",
    "#             sorting_index_a += sorting_definition_input.index(split_a[1])\n",
    "\n",
    "#     return sorting_index_a\n",
    "\n",
    "# for k,v in new_files.items():\n",
    "#     if \"with_sigma\" in v:\n",
    "#         sorting_function([k,v])\n",
    "#         break"
   ]
  },
  {
   "cell_type": "code",
   "execution_count": 5,
   "metadata": {},
   "outputs": [],
   "source": [
    "# sorted_files = dict(sorted(new_files.items(), key=sorting_function))\n",
    "# sorted_files.values()"
   ]
  },
  {
   "cell_type": "code",
   "execution_count": 6,
   "metadata": {},
   "outputs": [
    {
     "name": "stdout",
     "output_type": "stream",
     "text": [
      "| Model Name                                                      |   Accuracy |   CE |   AutoMOS |\n",
      "|:----------------------------------------------------------------|-----------:|-----:|----------:|\n",
      "| /ga_glowTTS_ASR_ffn_x_vector/200ep/basic_init/ce_ls_0.1/        |      21.39 | 2.94 |      1.92 |\n",
      "| /ga_glowTTS_ASR_ffn_x_vector/200ep/tts_pretrained/ce_ls_0.1/    |      21.33 | 2.94 |      2.73 |\n",
      "| /ga_glowTTS_ASR_ffn_x_vector_v2/200ep/tts_pretrained/ce_ls_1.0/ |      20.42 | 0.02 |      2.05 |\n",
      "| /ga_glowTTS_ASR_ffn_x_vector_v2/200ep/tts_pretrained/ce_ls_0.1/ |      20.22 | 0.14 |      2.06 |\n",
      "| /ga_glowTTS_ASR_ffn_x_vector_v2/200ep/basic_init/ce_ls_1.0/     |      20.48 | 0.01 |      2.06 |\n",
      "| /ga_glowTTS_ASR_ffn_x_vector_v2/200ep/basic_init/ce_ls_0.1/     |      20.71 | 0.13 |      2.06 |\n",
      "| /ga_glowTTS_ASR_cnn_x_vector/basic_init/ce_ls_0.1/              |      25.67 | 2.90 |      2.40 |\n",
      "| /ga_glowTTS_ASR_cnn_x_vector/tts_pretrained/ce_ls_0.1/          |      27.63 | 2.89 |      2.34 |\n",
      "| /ga_glowTTS_ASR_cnn_x_vector_v2/tts_pretrained/ce_ls_0.01/      |      19.98 | 0.35 |      1.62 |\n",
      "| /ga_glowTTS_ASR_cnn_x_vector_v2/tts_pretrained/ce_ls_0.1/       |      20.29 | 0.05 |      1.73 |\n",
      "| /ga_glowTTS_ASR_cnn_x_vector_v2/basic_init/ce_ls_0.01/          |      19.97 | 0.34 |      2.00 |\n",
      "| /ga_glowTTS_ASR_cnn_x_vector_v2/basic_init/ce_ls_0.1/           |      20.32 | 0.05 |      1.35 |\n"
     ]
    }
   ],
   "source": [
    "# print(\"| Model Type | Accuary | Cross Entropy |\\n|-----|-----|-----|\")\n",
    "df = {}\n",
    "for file, name in files.items():\n",
    "    data = h5py.File(file)\n",
    "    epoch_data = get_epoch_data(\n",
    "        file.replace(\"phoneme_pred/train-clean/output/output.hdf\", \"training/work/learning_rates\"), 100\n",
    "    )\n",
    "    if \"dev_loss_ce\" in epoch_data[\"error\"]: \n",
    "        dev_loss_ce = epoch_data[\"error\"][\"dev_loss_ce\"]\n",
    "    else:\n",
    "        dev_loss_ce = np.inf\n",
    "    mean = np.array(data[\"inputs\"]).mean()\n",
    "    with open(file.replace(\"alias\", \"output\").replace(\"phoneme_pred/train-clean/output/output.hdf\", \"tts_eval_gl/nisqa_mos/average\")) as f:\n",
    "        autoMOS = float(f.readline())\n",
    "    df[name] = {\"Model Name\": name, \"Accuracy\": 100*mean, \"CE\": dev_loss_ce, \"AutoMOS\": autoMOS}\n",
    "    # print(f\"| {name} | {1e2*mean:.2f} | {dev_loss_ce:.3f} |\")\n",
    "\n",
    "df = pd.DataFrame.from_dict(df, orient=\"index\")\n",
    "print(df.to_markdown(index=False, floatfmt=\".2f\"))"
   ]
  },
  {
   "cell_type": "code",
   "execution_count": null,
   "metadata": {},
   "outputs": [],
   "source": []
  }
 ],
 "metadata": {
  "kernelspec": {
   "display_name": "sis_env",
   "language": "python",
   "name": "python3"
  },
  "language_info": {
   "codemirror_mode": {
    "name": "ipython",
    "version": 3
   },
   "file_extension": ".py",
   "mimetype": "text/x-python",
   "name": "python",
   "nbconvert_exporter": "python",
   "pygments_lexer": "ipython3",
   "version": "3.10.12"
  }
 },
 "nbformat": 4,
 "nbformat_minor": 2
}
